{
  "nbformat": 4,
  "nbformat_minor": 0,
  "metadata": {
    "colab": {
      "name": "IMDBTextClassification.ipynb",
      "provenance": [],
      "collapsed_sections": []
    },
    "kernelspec": {
      "name": "python3",
      "display_name": "Python 3"
    }
  },
  "cells": [
    {
      "cell_type": "code",
      "metadata": {
        "colab": {
          "base_uri": "https://localhost:8080/"
        },
        "id": "7jTbK07zjzOQ",
        "outputId": "72ffe286-9834-42ca-af20-6583dcf9d4b9"
      },
      "source": [
        "%tensorflow_version 2.x\r\n",
        "import tensorflow as tf\r\n",
        "print(tf.__version__)"
      ],
      "execution_count": null,
      "outputs": [
        {
          "output_type": "stream",
          "text": [
            "2.3.0\n"
          ],
          "name": "stdout"
        }
      ]
    },
    {
      "cell_type": "code",
      "metadata": {
        "id": "LRXWBSkvj9iu"
      },
      "source": [
        "import numpy as np\r\n",
        "from tensorflow import keras\r\n",
        "import tensorflow_datasets as tfds"
      ],
      "execution_count": null,
      "outputs": []
    },
    {
      "cell_type": "code",
      "metadata": {
        "colab": {
          "base_uri": "https://localhost:8080/"
        },
        "id": "IRvPwmvwj__3",
        "outputId": "a41968e3-0876-41e7-f116-7784e54b4839"
      },
      "source": [
        "dataset, info = tfds.load('imdb_reviews/subwords8k', with_info=True\r\n",
        "                          ,as_supervised=True)\r\n",
        "train_dataset, test_dataset = dataset['train'], dataset['test']"
      ],
      "execution_count": null,
      "outputs": [
        {
          "output_type": "stream",
          "text": [
            "WARNING:absl:TFDS datasets with text encoding are deprecated and will be removed in a future version. Instead, you should use the plain text version and tokenize the text using `tensorflow_text` (See: https://www.tensorflow.org/tutorials/tensorflow_text/intro#tfdata_example)\n"
          ],
          "name": "stderr"
        }
      ]
    },
    {
      "cell_type": "code",
      "metadata": {
        "colab": {
          "base_uri": "https://localhost:8080/"
        },
        "id": "5kGJb0JgkGnV",
        "outputId": "179a1012-b7e3-4086-b179-1bd17c8629bd"
      },
      "source": [
        "encoder = info.features['text'].encoder\r\n",
        "print('Vocabulary size: {}'.format(encoder.vocab_size))\r\n",
        "sample_string = 'Hello TensorFlow.'\r\n",
        "\r\n",
        "encoded_string = encoder.encode(sample_string)\r\n",
        "print('Encoded string is {}'.format(encoded_string))\r\n",
        "\r\n",
        "original_string = encoder.decode(encoded_string)\r\n",
        "print('The original string: \"{}\"'.format(original_string))\r\n",
        "assert original_string == sample_string\r\n",
        "\r\n",
        "for index in encoded_string:\r\n",
        "  print('{} ----> {}'.format(index, encoder.decode([index])))"
      ],
      "execution_count": null,
      "outputs": [
        {
          "output_type": "stream",
          "text": [
            "Vocabulary size: 8185\n",
            "Encoded string is [4025, 222, 6307, 2327, 4043, 2120, 7975]\n",
            "The original string: \"Hello TensorFlow.\"\n",
            "4025 ----> Hell\n",
            "222 ----> o \n",
            "6307 ----> Ten\n",
            "2327 ----> sor\n",
            "4043 ----> Fl\n",
            "2120 ----> ow\n",
            "7975 ----> .\n"
          ],
          "name": "stdout"
        }
      ]
    },
    {
      "cell_type": "code",
      "metadata": {
        "id": "c3CuX-aXkJS1"
      },
      "source": [
        "BUFFER_SIZE = 10000\r\n",
        "BATCH_SIZE = 64\r\n",
        "\r\n",
        "train_dataset = train_dataset.shuffle(BUFFER_SIZE)\r\n",
        "train_dataset = train_dataset.padded_batch(BATCH_SIZE, tf.compat.v1.data.get_output_shapes(train_dataset))\r\n",
        "\r\n",
        "test_dataset = test_dataset.padded_batch(BATCH_SIZE,tf.compat.v1.data.get_output_shapes(test_dataset))"
      ],
      "execution_count": null,
      "outputs": []
    },
    {
      "cell_type": "markdown",
      "metadata": {
        "id": "CcM8GGtBlMHv"
      },
      "source": [
        ""
      ]
    },
    {
      "cell_type": "code",
      "metadata": {
        "colab": {
          "base_uri": "https://localhost:8080/"
        },
        "id": "pxH6R_9FlKit",
        "outputId": "ddabdbbf-108e-439a-9567-3d44f6c7b06f"
      },
      "source": [
        "model = keras.Sequential()\r\n",
        "model.add(keras.layers.Embedding(encoder.vocab_size, 64,\r\n",
        "mask_zero=True))\r\n",
        "model.add(keras.layers.LSTM(64))\r\n",
        "model.add(keras.layers.Dense(64, activation='relu'))\r\n",
        "model.add(keras.layers.Dense(1, activation='sigmoid'))\r\n",
        "model.summary()"
      ],
      "execution_count": null,
      "outputs": [
        {
          "output_type": "stream",
          "text": [
            "Model: \"sequential\"\n",
            "_________________________________________________________________\n",
            "Layer (type)                 Output Shape              Param #   \n",
            "=================================================================\n",
            "embedding (Embedding)        (None, None, 64)          523840    \n",
            "_________________________________________________________________\n",
            "lstm (LSTM)                  (None, 64)                33024     \n",
            "_________________________________________________________________\n",
            "dense (Dense)                (None, 64)                4160      \n",
            "_________________________________________________________________\n",
            "dense_1 (Dense)              (None, 1)                 65        \n",
            "=================================================================\n",
            "Total params: 561,089\n",
            "Trainable params: 561,089\n",
            "Non-trainable params: 0\n",
            "_________________________________________________________________\n"
          ],
          "name": "stdout"
        }
      ]
    },
    {
      "cell_type": "code",
      "metadata": {
        "colab": {
          "base_uri": "https://localhost:8080/"
        },
        "id": "zK-T9jLImrgL",
        "outputId": "a8795d2f-772b-4a07-98f6-4cbe584a6b8a"
      },
      "source": [
        "logdir = './logs/func-LSTM'\r\n",
        "tensorboard_callback = tf.keras.callbacks.TensorBoard(logdir, histogram_freq=1)\r\n",
        "\r\n",
        "model.compile(loss=tf.keras.losses.BinaryCrossentropy(from_logits=True),\r\n",
        "              optimizer=tf.keras.optimizers.Adam(1e4),\r\n",
        "              metrics=['accuracy'])\r\n",
        "model.fit(train_dataset, epochs=10,\r\n",
        "          validation_data=test_dataset, \r\n",
        "          validation_steps=30, callbacks=[tensorboard_callback])\r\n"
      ],
      "execution_count": null,
      "outputs": [
        {
          "output_type": "stream",
          "text": [
            "Epoch 1/10\n",
            "  1/391 [..............................] - ETA: 0s - loss: 0.7085 - accuracy: 0.4531WARNING:tensorflow:From /usr/local/lib/python3.6/dist-packages/tensorflow/python/ops/summary_ops_v2.py:1277: stop (from tensorflow.python.eager.profiler) is deprecated and will be removed after 2020-07-01.\n",
            "Instructions for updating:\n",
            "use `tf.profiler.experimental.stop` instead.\n"
          ],
          "name": "stdout"
        },
        {
          "output_type": "stream",
          "text": [
            "WARNING:tensorflow:From /usr/local/lib/python3.6/dist-packages/tensorflow/python/ops/summary_ops_v2.py:1277: stop (from tensorflow.python.eager.profiler) is deprecated and will be removed after 2020-07-01.\n",
            "Instructions for updating:\n",
            "use `tf.profiler.experimental.stop` instead.\n"
          ],
          "name": "stderr"
        },
        {
          "output_type": "stream",
          "text": [
            "157/391 [===========>..................] - ETA: 5:44 - loss: 0.6932 - accuracy: 0.4988"
          ],
          "name": "stdout"
        }
      ]
    },
    {
      "cell_type": "code",
      "metadata": {
        "id": "MYnFyvnapUJL"
      },
      "source": [
        "logdir = './logs/func-LSTM'\r\n",
        "tensorboard_callback = tf.keras.callbacks.TensorBoard(logdir, histogram_freq=1)\r\n",
        "\r\n",
        "model.compile(loss=tf.keras.losses.BinaryCrossentropy(from_logits=True),\r\n",
        "              optimizer=tf.keras.optimizers.Adam(1e-4),\r\n",
        "              metrics=['accuracy'])\r\n",
        "model.fit(train_dataset, epochs=10,\r\n",
        "          validation_data=test_dataset, \r\n",
        "          validation_steps=30, callbacks=[tensorboard_callback])\r\n",
        "\r\n",
        "%reload_ext tensorboard\r\n",
        "%tensorboard --logdir ./logs/func-LSTM\r\n"
      ],
      "execution_count": null,
      "outputs": []
    },
    {
      "cell_type": "code",
      "metadata": {
        "id": "qG5e9F4upfAa"
      },
      "source": [
        "test_loss, test_acc = model.evaluate(test_dataset) #If the prediction is >= 0.5, it is positive else it is negative.\r\n",
        "print('Test Loss: {}'.format(test_loss))\r\n",
        "print('Test Accuracy: {}'.format(test_acc))"
      ],
      "execution_count": null,
      "outputs": []
    },
    {
      "cell_type": "code",
      "metadata": {
        "id": "FBWuIpnopoQE"
      },
      "source": [
        "model.add(keras.layers.Embedding(encoder.vocab_size, 64, , mask_zero=True))\r\n",
        "model.add(keras.layers.Bidirectional(keras.layers.LSTM(64, return_sequences=True)))\r\n",
        "model.add(keras.layers.Bidirectional(keras.layers.LSTM(32)))\r\n",
        "model.add(keras.layers.Dropout(0.5))\r\n",
        "model.add(keras.layers.Dense(64, activation='relu'))\r\n",
        "model.add(keras.layers.Dense(1, activation='sigmoid'))"
      ],
      "execution_count": null,
      "outputs": []
    }
  ]
}