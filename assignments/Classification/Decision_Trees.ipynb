{
  "nbformat": 4,
  "nbformat_minor": 0,
  "metadata": {
    "colab": {
      "name": "Assignment1B.ipynb",
      "provenance": [],
      "collapsed_sections": []
    },
    "kernelspec": {
      "name": "python3",
      "display_name": "Python 3"
    }
  },
  "cells": [
    {
      "cell_type": "code",
      "metadata": {
        "id": "2ygb2XT7tG0U"
      },
      "source": [
        "from sklearn.datasets import load_iris\n",
        "iris = load_iris() #loads iris\n",
        "data = iris.data[:, :4] #sepal length and width & petal length and width\n",
        "y = iris.target\n",
        "print(data)\n",
        "print(y)\n",
        "print(iris.feature_names)\n",
        "print(iris.target_names)"
      ],
      "execution_count": null,
      "outputs": []
    },
    {
      "cell_type": "code",
      "metadata": {
        "id": "m-jd8802t-JU"
      },
      "source": [
        "from sklearn.model_selection import train_test_split\n",
        "train_data, test_data, train_labels, test_labels = train_test_split(data, y, test_size=0.2, random_state=101)\n",
        "print(train_data)\n",
        "print(test_data)\n",
        "print(train_labels)\n",
        "print(test_labels)"
      ],
      "execution_count": null,
      "outputs": []
    },
    {
      "cell_type": "code",
      "metadata": {
        "id": "Ec5Vhg1x18gF"
      },
      "source": [
        "from sklearn.neighbors import KNeighborsClassifier\n",
        "from sklearn.metrics import accuracy_score\n",
        "\n",
        "clf = KNeighborsClassifier(15)\n",
        "clf.fit(train_data, train_labels)\n",
        "y_pred_NN = clf.predict(test_data)\n",
        "print(y_pred_NN)\n",
        "##  print(accuracy_score(test_labels, y_pred_NN, normalize=True))"
      ],
      "execution_count": null,
      "outputs": []
    },
    {
      "cell_type": "code",
      "metadata": {
        "id": "90nuJv_X4iPw"
      },
      "source": [
        "from sklearn.tree import DecisionTreeClassifier \n",
        "tree_clf = DecisionTreeClassifier(max_depth=5)\n",
        "tree_clf.fit(data, y)\n",
        "y_pred_decision = tree_clf.predict(test_data)\n",
        "print(y_pred_decision)"
      ],
      "execution_count": null,
      "outputs": []
    },
    {
      "cell_type": "code",
      "metadata": {
        "id": "g9qNvsKJ6UyC"
      },
      "source": [
        "print(tree_clf)\n",
        "from sklearn.tree import export_graphviz\n",
        "export_graphviz(\n",
        "    tree_clf,\n",
        "    out_file=\"iris_tree.dot\",\n",
        "    feature_names = iris.feature_names[:4],\n",
        "    class_names=iris.target_names,\n",
        "    rounded=True,\n",
        "    filled=True\n",
        ")\n",
        "import graphviz\n",
        "with open(\"iris_tree.dot\") as f:\n",
        "  dot_graph = f.read()\n",
        "graphviz.Source(dot_graph)"
      ],
      "execution_count": null,
      "outputs": []
    },
    {
      "cell_type": "code",
      "metadata": {
        "id": "bmISTZo8-7h3"
      },
      "source": [
        "print(accuracy_score(test_labels, y_pred_NN, normalize=True))\n",
        "print(accuracy_score(test_labels, y_pred_decision, normalize=True))"
      ],
      "execution_count": null,
      "outputs": []
    },
    {
      "cell_type": "code",
      "metadata": {
        "id": "HsBLN6xWAjp8",
        "outputId": "9aa7dea9-8075-4519-be00-fd33dd17b331",
        "colab": {
          "base_uri": "https://localhost:8080/",
          "height": 981
        }
      },
      "source": [
        "## Extra credit\n",
        "print(test_data.size) ## K < size of the test data\n",
        "clfs = [KNeighborsClassifier(25), KNeighborsClassifier(50), KNeighborsClassifier(5), KNeighborsClassifier(100), KNeighborsClassifier(118), KNeighborsClassifier(113), KNeighborsClassifier(84), KNeighborsClassifier(120), KNeighborsClassifier(2), KNeighborsClassifier(23)]\n",
        "y_pred_NNs = [0] * 10\n",
        "tree_clfs = [DecisionTreeClassifier(max_depth=1), DecisionTreeClassifier(max_depth=2), DecisionTreeClassifier(max_depth=3), DecisionTreeClassifier(max_depth=10), DecisionTreeClassifier(max_depth=14), DecisionTreeClassifier(max_depth=22), DecisionTreeClassifier(max_depth=25), DecisionTreeClassifier(max_depth=32), DecisionTreeClassifier(max_depth=37), DecisionTreeClassifier(max_depth=48)]\n",
        "y_pred_decisions = [0] * 10\n",
        "accuracy_scores_KNN = [0] * 10\n",
        "accuracy_scores_DT = [0] * 10\n",
        "DT_labels = [1, 2, 3, 10, 14, 22, 25, 32, 37, 48]\n",
        "KNN_labels = [25, 50, 5, 100, 118, 113, 84, 120, 2, 23]\n",
        "KNN_group = [[accuracy_scores_KNN], [KNN_labels]]\n",
        "DT_group = [[accuracy_scores_DT], [DT_labels]]\n",
        "print(\"Accuracy results for KNN group:\\n\")\n",
        "for i in range(10): \n",
        "  clfs[i].fit(train_data, train_labels)\n",
        "  y_pred_NNs[i] = clfs[i].predict(test_data)\n",
        "  accuracy_scores_KNN[i] = accuracy_score(test_labels, y_pred_NNs[i], normalize=True)\n",
        "  print(accuracy_scores_KNN[i])\n",
        "print(\"\\nAccuracy results for Decision Tree group:\\n\")\n",
        "for j in range(10):\n",
        "  tree_clfs[j].fit(data, y)\n",
        "  y_pred_decisions[j] = tree_clfs[j].predict(test_data)\n",
        "  accuracy_scores_DT[j] = accuracy_score(test_labels, y_pred_decisions[j], normalize=True)\n",
        "  print(accuracy_scores_DT[j])\n",
        "\n",
        "# Plot the accuracy scores\n",
        "import matplotlib.pyplot as plt\n",
        "from numpy import *\n",
        "import operator\n",
        "def visualizeKNN(accuracy_scores_KNN, KNN_labels):\n",
        "  unique_labels, color = unique(KNN_labels, return_inverse=True)\n",
        "  scatter = plt.scatter(accuracy_scores_KNN, KNN_labels, c=color)\n",
        "  plt.xlabel('Accuracies')\n",
        "  plt.ylabel('Nearest Neighobrs K')\n",
        "  plt.show()\n",
        "visualizeKNN(accuracy_scores_KNN, KNN_labels)\n",
        "def visualizeDT(accuracy_scores_DT, DT_labels):\n",
        "  unique_labels, color = unique(DT_labels, return_inverse=True)\n",
        "  scatter = plt.scatter(accuracy_scores_DT, DT_labels, c=color)\n",
        "  plt.xlabel('Accuracies')\n",
        "  plt.ylabel('Max Depths')\n",
        "  plt.show()\n",
        "visualizeDT(accuracy_scores_DT, DT_labels)"
      ],
      "execution_count": 9,
      "outputs": [
        {
          "output_type": "stream",
          "text": [
            "120\n",
            "Accuracy results for KNN group:\n",
            "\n",
            "0.9333333333333333\n",
            "0.9333333333333333\n",
            "1.0\n",
            "0.7666666666666667\n",
            "0.6\n",
            "0.6666666666666666\n",
            "0.8\n",
            "0.26666666666666666\n",
            "0.9333333333333333\n",
            "0.9333333333333333\n",
            "\n",
            "Accuracy results for Decision Tree group:\n",
            "\n",
            "0.7333333333333333\n",
            "0.9333333333333333\n",
            "1.0\n",
            "1.0\n",
            "1.0\n",
            "1.0\n",
            "1.0\n",
            "1.0\n",
            "1.0\n",
            "1.0\n"
          ],
          "name": "stdout"
        },
        {
          "output_type": "display_data",
          "data": {
            "image/png": "[encoded data removed]",
            "text/plain": [
              "<Figure size 432x288 with 1 Axes>"
            ]
          },
          "metadata": {
            "tags": [],
            "needs_background": "light"
          }
        },
        {
          "output_type": "display_data",
          "data": {
            "image/png": "[encoded data removed]",
            "text/plain": [
              "<Figure size 432x288 with 1 Axes>"
            ]
          },
          "metadata": {
            "tags": [],
            "needs_background": "light"
          }
        }
      ]
    },
    {
      "cell_type": "code",
      "metadata": {
        "id": "gWZOj7ramOOK"
      },
      "source": [
        ""
      ],
      "execution_count": null,
      "outputs": []
    }
  ]
}